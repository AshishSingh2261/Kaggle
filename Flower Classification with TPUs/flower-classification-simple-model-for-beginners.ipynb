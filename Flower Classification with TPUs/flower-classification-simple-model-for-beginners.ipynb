{
 "cells": [
  {
   "cell_type": "markdown",
   "metadata": {
    "papermill": {
     "duration": 0.019614,
     "end_time": "2020-11-06T14:54:31.700402",
     "exception": false,
     "start_time": "2020-11-06T14:54:31.680788",
     "status": "completed"
    },
    "tags": []
   },
   "source": [
    "# Notebooks To Check Out For Beginners.\n",
    "This notebook has several lines lines of code from [https://www.kaggle.com/ryanholbrook/create-your-first-submission](http://).\n",
    "That notebook was really helpful for beginners like me who might have gotten a bit overwhelmed with all of this.   \n",
    "Please go check out that notebook before attempting this competition as it is really helpful for beginners.\n",
    "\n",
    "For Data Augmentation i referred to this notebook [https://www.kaggle.com/cdeotte/rotation-augmentation-gpu-tpu-0-96](http://).\n",
    "It is an excellent notebook that explains how the data augmentation is exactly done. Refer to it if you want to gain some intution."
   ]
  },
  {
   "cell_type": "code",
   "execution_count": 1,
   "metadata": {
    "_cell_guid": "79c7e3d0-c299-4dcb-8224-4455121ee9b0",
    "_uuid": "d629ff2d2480ee46fbb7e2d37f6b5fab8052498a",
    "execution": {
     "iopub.execute_input": "2020-11-06T14:54:31.745027Z",
     "iopub.status.busy": "2020-11-06T14:54:31.744210Z",
     "iopub.status.idle": "2020-11-06T14:54:48.193428Z",
     "shell.execute_reply": "2020-11-06T14:54:48.192600Z"
    },
    "papermill": {
     "duration": 16.474936,
     "end_time": "2020-11-06T14:54:48.193558",
     "exception": false,
     "start_time": "2020-11-06T14:54:31.718622",
     "status": "completed"
    },
    "tags": []
   },
   "outputs": [
    {
     "name": "stdout",
     "output_type": "stream",
     "text": [
      "\u001b[33mWARNING: You are using pip version 20.1.1; however, version 20.2.4 is available.\r\n",
      "You should consider upgrading via the '/opt/conda/bin/python3.7 -m pip install --upgrade pip' command.\u001b[0m\r\n"
     ]
    }
   ],
   "source": [
    "!pip install efficientnet --quiet\n",
    "#Importing Stuff\n",
    "import math, re, os\n",
    "import numpy as np\n",
    "import tensorflow as tf\n",
    "import tensorflow.keras.backend as K\n",
    "import efficientnet.tfkeras as efficientnet"
   ]
  },
  {
   "cell_type": "code",
   "execution_count": 2,
   "metadata": {
    "execution": {
     "iopub.execute_input": "2020-11-06T14:54:48.317155Z",
     "iopub.status.busy": "2020-11-06T14:54:48.245356Z",
     "iopub.status.idle": "2020-11-06T14:54:52.340408Z",
     "shell.execute_reply": "2020-11-06T14:54:52.339625Z"
    },
    "papermill": {
     "duration": 4.127614,
     "end_time": "2020-11-06T14:54:52.340533",
     "exception": false,
     "start_time": "2020-11-06T14:54:48.212919",
     "status": "completed"
    },
    "tags": []
   },
   "outputs": [
    {
     "name": "stdout",
     "output_type": "stream",
     "text": [
      "Running on TPU  grpc://10.0.0.2:8470\n",
      "REPLICAS:  8\n"
     ]
    }
   ],
   "source": [
    "# Detect TPU, return appropriate distribution strategy\n",
    "try:\n",
    "    tpu = tf.distribute.cluster_resolver.TPUClusterResolver() \n",
    "    print('Running on TPU ', tpu.master())\n",
    "except ValueError:\n",
    "    tpu = None\n",
    "\n",
    "if tpu:\n",
    "    tf.config.experimental_connect_to_cluster(tpu)\n",
    "    tf.tpu.experimental.initialize_tpu_system(tpu)\n",
    "    strategy = tf.distribute.experimental.TPUStrategy(tpu)\n",
    "else:\n",
    "    strategy = tf.distribute.get_strategy() \n",
    "\n",
    "print(\"REPLICAS: \", strategy.num_replicas_in_sync)"
   ]
  },
  {
   "cell_type": "markdown",
   "metadata": {
    "papermill": {
     "duration": 0.019459,
     "end_time": "2020-11-06T14:54:52.379740",
     "exception": false,
     "start_time": "2020-11-06T14:54:52.360281",
     "status": "completed"
    },
    "tags": []
   },
   "source": [
    "# Prepare To Load The Data"
   ]
  },
  {
   "cell_type": "code",
   "execution_count": 3,
   "metadata": {
    "execution": {
     "iopub.execute_input": "2020-11-06T14:54:52.424957Z",
     "iopub.status.busy": "2020-11-06T14:54:52.424219Z",
     "iopub.status.idle": "2020-11-06T14:54:52.943253Z",
     "shell.execute_reply": "2020-11-06T14:54:52.943951Z"
    },
    "papermill": {
     "duration": 0.54458,
     "end_time": "2020-11-06T14:54:52.944112",
     "exception": false,
     "start_time": "2020-11-06T14:54:52.399532",
     "status": "completed"
    },
    "tags": []
   },
   "outputs": [
    {
     "name": "stdout",
     "output_type": "stream",
     "text": [
      "gs://kds-1cf8d5816507dc93db69e4b7f6fe354c5b7dcf8d7f737dccfb3f37c9\n"
     ]
    }
   ],
   "source": [
    "#This shows the path from which are data is loaded. Data for this competition is taken from Google Cloud Storage.\n",
    "\n",
    "from kaggle_datasets import KaggleDatasets\n",
    "\n",
    "GCS_DS_PATH = KaggleDatasets().get_gcs_path('tpu-getting-started')\n",
    "print(GCS_DS_PATH)"
   ]
  },
  {
   "cell_type": "code",
   "execution_count": 4,
   "metadata": {
    "execution": {
     "iopub.execute_input": "2020-11-06T14:54:53.335777Z",
     "iopub.status.busy": "2020-11-06T14:54:53.008699Z",
     "iopub.status.idle": "2020-11-06T14:54:53.470567Z",
     "shell.execute_reply": "2020-11-06T14:54:53.469867Z"
    },
    "papermill": {
     "duration": 0.500421,
     "end_time": "2020-11-06T14:54:53.470723",
     "exception": false,
     "start_time": "2020-11-06T14:54:52.970302",
     "status": "completed"
    },
    "tags": []
   },
   "outputs": [],
   "source": [
    "#Here we define which image sizes we are going to use. \n",
    "#We also load the training,validation and test filenames.\n",
    "IMAGE_SIZE = [224, 224]\n",
    "GCS_PATH = GCS_DS_PATH + '/tfrecords-jpeg-224x224'\n",
    "AUTO = tf.data.experimental.AUTOTUNE\n",
    "\n",
    "TRAINING_FILENAMES = tf.io.gfile.glob(GCS_PATH + '/train/*.tfrec')\n",
    "VALIDATION_FILENAMES = tf.io.gfile.glob(GCS_PATH + '/val/*.tfrec')\n",
    "TEST_FILENAMES = tf.io.gfile.glob(GCS_PATH + '/test/*.tfrec') \n",
    "\n",
    "#Name of the different types of Flowers.\n",
    "CLASSES = ['pink primrose',    'hard-leaved pocket orchid', 'canterbury bells', 'sweet pea',     'wild geranium',     'tiger lily',           'moon orchid',              'bird of paradise', 'monkshood',        'globe thistle',         \n",
    "           'snapdragon',       \"colt's foot\",               'king protea',      'spear thistle', 'yellow iris',       'globe-flower',         'purple coneflower',        'peruvian lily',    'balloon flower',   'giant white arum lily', \n",
    "           'fire lily',        'pincushion flower',         'fritillary',       'red ginger',    'grape hyacinth',    'corn poppy',           'prince of wales feathers', 'stemless gentian', 'artichoke',        'sweet william',         \n",
    "           'carnation',        'garden phlox',              'love in the mist', 'cosmos',        'alpine sea holly',  'ruby-lipped cattleya', 'cape flower',              'great masterwort', 'siam tulip',       'lenten rose',           \n",
    "           'barberton daisy',  'daffodil',                  'sword lily',       'poinsettia',    'bolero deep blue',  'wallflower',           'marigold',                 'buttercup',        'daisy',            'common dandelion',      \n",
    "           'petunia',          'wild pansy',                'primula',          'sunflower',     'lilac hibiscus',    'bishop of llandaff',   'gaura',                    'geranium',         'orange dahlia',    'pink-yellow dahlia',    \n",
    "           'cautleya spicata', 'japanese anemone',          'black-eyed susan', 'silverbush',    'californian poppy', 'osteospermum',         'spring crocus',            'iris',             'windflower',       'tree poppy',            \n",
    "           'gazania',          'azalea',                    'water lily',       'rose',          'thorn apple',       'morning glory',        'passion flower',           'lotus',            'toad lily',        'anthurium',             \n",
    "           'frangipani',       'clematis',                  'hibiscus',         'columbine',     'desert-rose',       'tree mallow',          'magnolia',                 'cyclamen ',        'watercress',       'canna lily',            \n",
    "           'hippeastrum ',     'bee balm',                  'pink quill',       'foxglove',      'bougainvillea',     'camellia',             'mallow',                   'mexican petunia',  'bromelia',         'blanket flower',        \n",
    "           'trumpet creeper',  'blackberry lily',           'common tulip',     'wild rose']                                                                                                                                              "
   ]
  },
  {
   "cell_type": "code",
   "execution_count": 5,
   "metadata": {
    "execution": {
     "iopub.execute_input": "2020-11-06T14:54:53.530520Z",
     "iopub.status.busy": "2020-11-06T14:54:53.529686Z",
     "iopub.status.idle": "2020-11-06T14:54:53.532839Z",
     "shell.execute_reply": "2020-11-06T14:54:53.532081Z"
    },
    "papermill": {
     "duration": 0.04084,
     "end_time": "2020-11-06T14:54:53.532963",
     "exception": false,
     "start_time": "2020-11-06T14:54:53.492123",
     "status": "completed"
    },
    "tags": []
   },
   "outputs": [],
   "source": [
    "#This function rescales and reshapes the images so that they could be trained by a neural net\n",
    "def decode_image(image_data):\n",
    "    image = tf.image.decode_jpeg(image_data, channels=3)\n",
    "    image = tf.cast(image, tf.float32) / 255.0  \n",
    "    image = tf.reshape(image, [*IMAGE_SIZE, 3]) \n",
    "    return image\n",
    "\n",
    "#This function creates image,label pairs for training. \n",
    "def read_labeled_tfrecord(example):\n",
    "    LABELED_TFREC_FORMAT = {\n",
    "        \"image\": tf.io.FixedLenFeature([], tf.string), \n",
    "        \"class\": tf.io.FixedLenFeature([], tf.int64),  \n",
    "    }\n",
    "    example = tf.io.parse_single_example(example, LABELED_TFREC_FORMAT)\n",
    "    image = decode_image(example['image'])\n",
    "    label = tf.cast(example['class'], tf.int32)\n",
    "    return image, label\n",
    "\n",
    "#This creates image,id pairs for unlabeled data. Useful for test set\n",
    "def read_unlabeled_tfrecord(example):\n",
    "    UNLABELED_TFREC_FORMAT = {\n",
    "        \"image\": tf.io.FixedLenFeature([], tf.string),\n",
    "        \"id\": tf.io.FixedLenFeature([], tf.string),  \n",
    "    }\n",
    "    example = tf.io.parse_single_example(example, UNLABELED_TFREC_FORMAT)\n",
    "    image = decode_image(example['image'])\n",
    "    idnum = example['id']\n",
    "    return image, idnum \n",
    "\n",
    "#This function helps in loading the datasets. The data is not loaded in an orderly fashion as we are going to shuffle it anyways\n",
    "#It can return both labeled and unlabaled data because of the two functions we specified above.\n",
    "def load_dataset(filenames, labeled=True, ordered=False):\n",
    "    ignore_order = tf.data.Options()\n",
    "    if not ordered:\n",
    "        ignore_order.experimental_deterministic = False\n",
    "\n",
    "    dataset = tf.data.TFRecordDataset(filenames, num_parallel_reads=AUTO)\n",
    "    dataset = dataset.with_options(ignore_order)\n",
    "    dataset = dataset.map(read_labeled_tfrecord if labeled else read_unlabeled_tfrecord, num_parallel_calls=AUTO)\n",
    "    return dataset"
   ]
  },
  {
   "cell_type": "markdown",
   "metadata": {
    "papermill": {
     "duration": 0.020463,
     "end_time": "2020-11-06T14:54:53.574203",
     "exception": false,
     "start_time": "2020-11-06T14:54:53.553740",
     "status": "completed"
    },
    "tags": []
   },
   "source": [
    "# Data Augmentation Using Custom Functions"
   ]
  },
  {
   "cell_type": "code",
   "execution_count": 6,
   "metadata": {
    "execution": {
     "iopub.execute_input": "2020-11-06T14:54:53.654243Z",
     "iopub.status.busy": "2020-11-06T14:54:53.644956Z",
     "iopub.status.idle": "2020-11-06T14:54:53.657525Z",
     "shell.execute_reply": "2020-11-06T14:54:53.656739Z"
    },
    "papermill": {
     "duration": 0.062725,
     "end_time": "2020-11-06T14:54:53.657654",
     "exception": false,
     "start_time": "2020-11-06T14:54:53.594929",
     "status": "completed"
    },
    "tags": []
   },
   "outputs": [],
   "source": [
    "#This function will be used to augment the data. Augmentation almost always helps in improving the performance of the model.\n",
    "#It is always recommended to augment your data.\n",
    "def get_mat(rotation, shear, height_zoom, width_zoom, height_shift, width_shift):\n",
    "    # returns 3x3 transform matrix which transforms indicies\n",
    "        \n",
    "    # CONVERT DEGREES TO RADIANS\n",
    "    rotation = math.pi * rotation / 180.\n",
    "    shear = math.pi * shear / 180.\n",
    "    \n",
    "    # ROTATION MATRIX\n",
    "    c1 = tf.math.cos(rotation)\n",
    "    s1 = tf.math.sin(rotation)\n",
    "    one = tf.constant([1],dtype='float32')\n",
    "    zero = tf.constant([0],dtype='float32')\n",
    "    rotation_matrix = tf.reshape( tf.concat([c1,s1,zero, -s1,c1,zero, zero,zero,one],axis=0),[3,3] )\n",
    "        \n",
    "    # SHEAR MATRIX\n",
    "    c2 = tf.math.cos(shear)\n",
    "    s2 = tf.math.sin(shear)\n",
    "    shear_matrix = tf.reshape( tf.concat([one,s2,zero, zero,c2,zero, zero,zero,one],axis=0),[3,3] )    \n",
    "    \n",
    "    # ZOOM MATRIX\n",
    "    zoom_matrix = tf.reshape( tf.concat([one/height_zoom,zero,zero, zero,one/width_zoom,zero, zero,zero,one],axis=0),[3,3] )\n",
    "    \n",
    "    # SHIFT MATRIX\n",
    "    shift_matrix = tf.reshape( tf.concat([one,zero,height_shift, zero,one,width_shift, zero,zero,one],axis=0),[3,3] )\n",
    "    \n",
    "    return K.dot(K.dot(rotation_matrix, shear_matrix), K.dot(zoom_matrix, shift_matrix))\n",
    "\n",
    "def transform(image,label):\n",
    "    DIM = IMAGE_SIZE[0]\n",
    "    XDIM = DIM%2 \n",
    "    \n",
    "    rot = 15. * tf.random.normal([1],dtype='float32')\n",
    "    shr = 5. * tf.random.normal([1],dtype='float32') \n",
    "    h_zoom = 1.0 + tf.random.normal([1],dtype='float32')/10.\n",
    "    w_zoom = 1.0 + tf.random.normal([1],dtype='float32')/10.\n",
    "    h_shift = 16. * tf.random.normal([1],dtype='float32') \n",
    "    w_shift = 16. * tf.random.normal([1],dtype='float32') \n",
    "  \n",
    "    # GET TRANSFORMATION MATRIX\n",
    "    m = get_mat(rot,shr,h_zoom,w_zoom,h_shift,w_shift) \n",
    "\n",
    "    # LIST DESTINATION PIXEL INDICES\n",
    "    x = tf.repeat( tf.range(DIM//2,-DIM//2,-1), DIM )\n",
    "    y = tf.tile( tf.range(-DIM//2,DIM//2),[DIM] )\n",
    "    z = tf.ones([DIM*DIM],dtype='int32')\n",
    "    idx = tf.stack( [x,y,z] )\n",
    "    \n",
    "    # ROTATE DESTINATION PIXELS ONTO ORIGIN PIXELS\n",
    "    idx2 = K.dot(m,tf.cast(idx,dtype='float32'))\n",
    "    idx2 = K.cast(idx2,dtype='int32')\n",
    "    idx2 = K.clip(idx2,-DIM//2+XDIM+1,DIM//2)\n",
    "    \n",
    "    # FIND ORIGIN PIXEL VALUES           \n",
    "    idx3 = tf.stack( [DIM//2-idx2[0,], DIM//2-1+idx2[1,]] )\n",
    "    d = tf.gather_nd(image,tf.transpose(idx3))\n",
    "        \n",
    "    return tf.reshape(d,[DIM,DIM,3]),label\n",
    "\n",
    "#Function to load the Training dataset\n",
    "def get_training_dataset():\n",
    "    dataset = load_dataset(TRAINING_FILENAMES, labeled=True)\n",
    "    dataset = dataset.map(transform, num_parallel_calls=AUTO)\n",
    "    dataset = dataset.repeat()\n",
    "    dataset = dataset.shuffle(2048)\n",
    "    dataset = dataset.batch(BATCH_SIZE)\n",
    "    dataset = dataset.prefetch(AUTO) \n",
    "    return dataset\n",
    "\n",
    "#Function to load the Validation dataset\n",
    "def get_validation_dataset(ordered=False):\n",
    "    dataset = load_dataset(VALIDATION_FILENAMES, labeled=True, ordered=ordered)\n",
    "    dataset = dataset.batch(BATCH_SIZE)\n",
    "    dataset = dataset.cache()\n",
    "    dataset = dataset.prefetch(AUTO)\n",
    "    return dataset\n",
    "\n",
    "#Function to load the Test dataset\n",
    "def get_test_dataset(ordered=False):\n",
    "    dataset = load_dataset(TEST_FILENAMES, labeled=False, ordered=ordered)\n",
    "    dataset = dataset.batch(BATCH_SIZE)\n",
    "    dataset = dataset.prefetch(AUTO)\n",
    "    return dataset\n",
    "\n",
    "#Here we specify the number of images in each categories as they are fixed. You can also write a custom function using regex \n",
    "#to find the same\n",
    "NUM_TRAINING_IMAGES = 12753\n",
    "NUM_VALIDATION_IMAGES = 3712\n",
    "NUM_TEST_IMAGES = 7382"
   ]
  },
  {
   "cell_type": "markdown",
   "metadata": {
    "papermill": {
     "duration": 0.020415,
     "end_time": "2020-11-06T14:54:53.699047",
     "exception": false,
     "start_time": "2020-11-06T14:54:53.678632",
     "status": "completed"
    },
    "tags": []
   },
   "source": [
    "# Load The Data"
   ]
  },
  {
   "cell_type": "code",
   "execution_count": 7,
   "metadata": {
    "execution": {
     "iopub.execute_input": "2020-11-06T14:54:53.750956Z",
     "iopub.status.busy": "2020-11-06T14:54:53.750084Z",
     "iopub.status.idle": "2020-11-06T14:54:55.378604Z",
     "shell.execute_reply": "2020-11-06T14:54:55.377916Z"
    },
    "papermill": {
     "duration": 1.658815,
     "end_time": "2020-11-06T14:54:55.378726",
     "exception": false,
     "start_time": "2020-11-06T14:54:53.719911",
     "status": "completed"
    },
    "tags": []
   },
   "outputs": [
    {
     "name": "stdout",
     "output_type": "stream",
     "text": [
      "Training: <PrefetchDataset shapes: ((None, 224, 224, 3), (None,)), types: (tf.float32, tf.int32)>\n",
      "Validation: <PrefetchDataset shapes: ((None, 224, 224, 3), (None,)), types: (tf.float32, tf.int32)>\n",
      "Test: <PrefetchDataset shapes: ((None, 224, 224, 3), (None,)), types: (tf.float32, tf.string)>\n"
     ]
    }
   ],
   "source": [
    "#Batch size is dependent on whether we are using TPU or not\n",
    "BATCH_SIZE = 32 * strategy.num_replicas_in_sync\n",
    "\n",
    "#The functions mentioned above are called\n",
    "ds_train = get_training_dataset()\n",
    "ds_valid = get_validation_dataset()\n",
    "ds_test = get_test_dataset()\n",
    "\n",
    "print(\"Training:\", ds_train)\n",
    "print (\"Validation:\", ds_valid)\n",
    "print(\"Test:\", ds_test)"
   ]
  },
  {
   "cell_type": "markdown",
   "metadata": {
    "papermill": {
     "duration": 0.020974,
     "end_time": "2020-11-06T14:54:55.421271",
     "exception": false,
     "start_time": "2020-11-06T14:54:55.400297",
     "status": "completed"
    },
    "tags": []
   },
   "source": [
    "# Defining The Models"
   ]
  },
  {
   "cell_type": "code",
   "execution_count": 8,
   "metadata": {
    "execution": {
     "iopub.execute_input": "2020-11-06T14:54:55.482375Z",
     "iopub.status.busy": "2020-11-06T14:54:55.481527Z",
     "iopub.status.idle": "2020-11-06T14:59:10.237859Z",
     "shell.execute_reply": "2020-11-06T14:59:10.237061Z"
    },
    "papermill": {
     "duration": 254.795421,
     "end_time": "2020-11-06T14:59:10.237990",
     "exception": false,
     "start_time": "2020-11-06T14:54:55.442569",
     "status": "completed"
    },
    "tags": []
   },
   "outputs": [
    {
     "name": "stdout",
     "output_type": "stream",
     "text": [
      "Downloading data from https://github.com/qubvel/efficientnet/releases/download/v0.0.1/efficientnet-b7_noisy-student_notop.h5\n",
      "258072576/258068648 [==============================] - 8s 0us/step\n",
      "Downloading data from https://storage.googleapis.com/tensorflow/keras-applications/xception/xception_weights_tf_dim_ordering_tf_kernels_notop.h5\n",
      "83689472/83683744 [==============================] - 2s 0us/step\n",
      "Downloading data from https://storage.googleapis.com/tensorflow/keras-applications/inception_resnet_v2/inception_resnet_v2_weights_tf_dim_ordering_tf_kernels_notop.h5\n",
      "219062272/219055592 [==============================] - 2s 0us/step\n",
      "Downloading data from https://storage.googleapis.com/tensorflow/keras-applications/densenet/densenet201_weights_tf_dim_ordering_tf_kernels_notop.h5\n",
      "74842112/74836368 [==============================] - 1s 0us/step\n"
     ]
    }
   ],
   "source": [
    "#Remember while using TPUs it is necessary to define your model in  the strategy.scope() block.\n",
    "with strategy.scope():\n",
    "    \n",
    "    #EfficentNetB7\n",
    "    pretrained_model1 = efficientnet.EfficientNetB7(\n",
    "        weights='noisy-student',\n",
    "        include_top=False ,\n",
    "        input_shape=[*IMAGE_SIZE, 3])\n",
    "    \n",
    "    pretrained_model1.trainable = True\n",
    "    \n",
    "    model1 = tf.keras.Sequential([\n",
    "        pretrained_model1,\n",
    "        tf.keras.layers.GlobalAveragePooling2D(),\n",
    "        tf.keras.layers.Dense(len(CLASSES), activation='softmax')\n",
    "    ])\n",
    "    \n",
    "    #Xception\n",
    "    pretrained_model2 = tf.keras.applications.Xception(\n",
    "        weights='imagenet',\n",
    "        include_top=False,\n",
    "        input_shape=[*IMAGE_SIZE,3])\n",
    "    \n",
    "    pretrained_model2.trainable = True\n",
    "    \n",
    "    model2 = tf.keras.Sequential([\n",
    "        pretrained_model2,\n",
    "        tf.keras.layers.GlobalAveragePooling2D(),\n",
    "        tf.keras.layers.Dense(len(CLASSES), activation='softmax')\n",
    "    ])\n",
    "    \n",
    "    #InceptionResNetV2\n",
    "    pretrained_model3 = tf.keras.applications.InceptionResNetV2(\n",
    "        weights='imagenet',\n",
    "        include_top=False,\n",
    "        input_shape=[*IMAGE_SIZE,3])\n",
    "        \n",
    "    pretrained_model3.trainable = True\n",
    "    \n",
    "    model3 = tf.keras.Sequential([\n",
    "        pretrained_model3,\n",
    "        tf.keras.layers.GlobalAveragePooling2D(),\n",
    "        tf.keras.layers.Dense(len(CLASSES), activation='softmax')\n",
    "    ])\n",
    "    \n",
    "    #DenseNet201\n",
    "    pretrained_model4 = tf.keras.applications.DenseNet201(\n",
    "        weights='imagenet',\n",
    "        include_top=False,\n",
    "        input_shape=[*IMAGE_SIZE,3])\n",
    "        \n",
    "    pretrained_model4.trainable = True\n",
    "    \n",
    "    model4 = tf.keras.Sequential([\n",
    "        pretrained_model4,\n",
    "        tf.keras.layers.GlobalAveragePooling2D(),\n",
    "        tf.keras.layers.Dense(len(CLASSES), activation='softmax')\n",
    "    ])\n",
    "    "
   ]
  },
  {
   "cell_type": "code",
   "execution_count": 9,
   "metadata": {
    "execution": {
     "iopub.execute_input": "2020-11-06T14:59:10.419165Z",
     "iopub.status.busy": "2020-11-06T14:59:10.414265Z",
     "iopub.status.idle": "2020-11-06T14:59:10.744779Z",
     "shell.execute_reply": "2020-11-06T14:59:10.743621Z"
    },
    "papermill": {
     "duration": 0.422181,
     "end_time": "2020-11-06T14:59:10.744933",
     "exception": false,
     "start_time": "2020-11-06T14:59:10.322752",
     "status": "completed"
    },
    "tags": []
   },
   "outputs": [],
   "source": [
    "#Here we compile all of our models\n",
    "\n",
    "model1.compile(\n",
    "    optimizer='adam',\n",
    "    loss = 'sparse_categorical_crossentropy',\n",
    "    metrics=['sparse_categorical_accuracy'],\n",
    ")\n",
    "model2.compile(\n",
    "    optimizer='adam',\n",
    "    loss = 'sparse_categorical_crossentropy',\n",
    "    metrics=['sparse_categorical_accuracy'],\n",
    ")\n",
    "model3.compile(\n",
    "    optimizer='adam',\n",
    "    loss = 'sparse_categorical_crossentropy',\n",
    "    metrics=['sparse_categorical_accuracy'],\n",
    ")\n",
    "model4.compile(\n",
    "    optimizer='adam',\n",
    "    loss = 'sparse_categorical_crossentropy',\n",
    "    metrics=['sparse_categorical_accuracy'],\n",
    ")"
   ]
  },
  {
   "cell_type": "code",
   "execution_count": 10,
   "metadata": {
    "execution": {
     "iopub.execute_input": "2020-11-06T14:59:10.927078Z",
     "iopub.status.busy": "2020-11-06T14:59:10.926020Z",
     "iopub.status.idle": "2020-11-06T14:59:10.929898Z",
     "shell.execute_reply": "2020-11-06T14:59:10.929169Z"
    },
    "papermill": {
     "duration": 0.098421,
     "end_time": "2020-11-06T14:59:10.930019",
     "exception": false,
     "start_time": "2020-11-06T14:59:10.831598",
     "status": "completed"
    },
    "tags": []
   },
   "outputs": [],
   "source": [
    "#A custom learning rate function is defined. If the learning rate was too high in the start our pre trained weights would become useless\n",
    "def exponential_lr(epoch,\n",
    "                   start_lr = 0.00001, min_lr = 0.00001, max_lr = 0.00005,\n",
    "                   rampup_epochs = 5, sustain_epochs = 0,\n",
    "                   exp_decay = 0.8):\n",
    "\n",
    "    def lr(epoch, start_lr, min_lr, max_lr, rampup_epochs, sustain_epochs, exp_decay):\n",
    "        # linear increase from start to rampup_epochs\n",
    "        if epoch < rampup_epochs:\n",
    "            lr = ((max_lr - start_lr) / rampup_epochs * epoch + start_lr)\n",
    "        # constant max_lr during sustain_epochs\n",
    "        elif epoch < rampup_epochs + sustain_epochs:\n",
    "            lr = max_lr\n",
    "        # exponential decay towards min_lr\n",
    "        else:\n",
    "            lr = ((max_lr - min_lr) * exp_decay**(epoch - rampup_epochs - sustain_epochs) + min_lr)\n",
    "        return lr\n",
    "    return lr(epoch,start_lr,min_lr,max_lr,rampup_epochs,sustain_epochs,exp_decay)\n",
    "\n",
    "#It is used by the callbacks class. verbose is set to true to see the current learning rate at the start of the epoch\n",
    "lr_callback = tf.keras.callbacks.LearningRateScheduler(exponential_lr, verbose=True)"
   ]
  },
  {
   "cell_type": "markdown",
   "metadata": {
    "papermill": {
     "duration": 0.083484,
     "end_time": "2020-11-06T14:59:11.096964",
     "exception": false,
     "start_time": "2020-11-06T14:59:11.013480",
     "status": "completed"
    },
    "tags": []
   },
   "source": [
    "# Training All The Models"
   ]
  },
  {
   "cell_type": "code",
   "execution_count": 11,
   "metadata": {
    "execution": {
     "iopub.execute_input": "2020-11-06T14:59:11.293932Z",
     "iopub.status.busy": "2020-11-06T14:59:11.289361Z",
     "iopub.status.idle": "2020-11-06T15:10:05.478002Z",
     "shell.execute_reply": "2020-11-06T15:10:05.477288Z"
    },
    "papermill": {
     "duration": 654.296112,
     "end_time": "2020-11-06T15:10:05.478153",
     "exception": false,
     "start_time": "2020-11-06T14:59:11.182041",
     "status": "completed"
    },
    "tags": []
   },
   "outputs": [
    {
     "name": "stdout",
     "output_type": "stream",
     "text": [
      "\n",
      "Epoch 00001: LearningRateScheduler reducing learning rate to 0.0010000000474974513.\n",
      "Epoch 1/15\n",
      "49/49 [==============================] - 65s 1s/step - sparse_categorical_accuracy: 0.3671 - loss: 2.7971 - val_sparse_categorical_accuracy: 0.4790 - val_loss: 2.4305 - lr: 0.0010\n",
      "\n",
      "Epoch 00002: LearningRateScheduler reducing learning rate to 0.0008100000379979611.\n",
      "Epoch 2/15\n",
      "49/49 [==============================] - 23s 467ms/step - sparse_categorical_accuracy: 0.7133 - loss: 1.0756 - val_sparse_categorical_accuracy: 0.6934 - val_loss: 1.3000 - lr: 8.1000e-04\n",
      "\n",
      "Epoch 00003: LearningRateScheduler reducing learning rate to 0.0005060000335611404.\n",
      "Epoch 3/15\n",
      "49/49 [==============================] - 23s 467ms/step - sparse_categorical_accuracy: 0.8332 - loss: 0.6177 - val_sparse_categorical_accuracy: 0.8044 - val_loss: 0.8341 - lr: 5.0600e-04\n",
      "\n",
      "Epoch 00004: LearningRateScheduler reducing learning rate to 0.00023240000449121004.\n",
      "Epoch 4/15\n",
      "49/49 [==============================] - 23s 466ms/step - sparse_categorical_accuracy: 0.8888 - loss: 0.4130 - val_sparse_categorical_accuracy: 0.8341 - val_loss: 0.6839 - lr: 2.3240e-04\n",
      "\n",
      "Epoch 00005: LearningRateScheduler reducing learning rate to 8.648000176530332e-05.\n",
      "Epoch 5/15\n",
      "49/49 [==============================] - 23s 470ms/step - sparse_categorical_accuracy: 0.9085 - loss: 0.3272 - val_sparse_categorical_accuracy: 0.8658 - val_loss: 0.5451 - lr: 8.6480e-05\n",
      "\n",
      "Epoch 00006: LearningRateScheduler reducing learning rate to 5e-05.\n",
      "Epoch 6/15\n",
      "49/49 [==============================] - 23s 470ms/step - sparse_categorical_accuracy: 0.9170 - loss: 0.2969 - val_sparse_categorical_accuracy: 0.8842 - val_loss: 0.4648 - lr: 5.0000e-05\n",
      "\n",
      "Epoch 00007: LearningRateScheduler reducing learning rate to 4.2000000000000004e-05.\n",
      "Epoch 7/15\n",
      "49/49 [==============================] - 23s 469ms/step - sparse_categorical_accuracy: 0.9228 - loss: 0.2794 - val_sparse_categorical_accuracy: 0.8928 - val_loss: 0.4296 - lr: 4.2000e-05\n",
      "\n",
      "Epoch 00008: LearningRateScheduler reducing learning rate to 3.5600000000000005e-05.\n",
      "Epoch 8/15\n",
      "49/49 [==============================] - 23s 467ms/step - sparse_categorical_accuracy: 0.9274 - loss: 0.2620 - val_sparse_categorical_accuracy: 0.9011 - val_loss: 0.3998 - lr: 3.5600e-05\n",
      "\n",
      "Epoch 00009: LearningRateScheduler reducing learning rate to 3.0480000000000006e-05.\n",
      "Epoch 9/15\n",
      "49/49 [==============================] - 23s 466ms/step - sparse_categorical_accuracy: 0.9284 - loss: 0.2561 - val_sparse_categorical_accuracy: 0.9062 - val_loss: 0.3863 - lr: 3.0480e-05\n",
      "\n",
      "Epoch 00010: LearningRateScheduler reducing learning rate to 2.6384000000000004e-05.\n",
      "Epoch 10/15\n",
      "49/49 [==============================] - 23s 467ms/step - sparse_categorical_accuracy: 0.9306 - loss: 0.2447 - val_sparse_categorical_accuracy: 0.9073 - val_loss: 0.3771 - lr: 2.6384e-05\n",
      "\n",
      "Epoch 00011: LearningRateScheduler reducing learning rate to 2.3107200000000005e-05.\n",
      "Epoch 11/15\n",
      "49/49 [==============================] - 23s 468ms/step - sparse_categorical_accuracy: 0.9327 - loss: 0.2366 - val_sparse_categorical_accuracy: 0.9087 - val_loss: 0.3750 - lr: 2.3107e-05\n",
      "\n",
      "Epoch 00012: LearningRateScheduler reducing learning rate to 2.0485760000000004e-05.\n",
      "Epoch 12/15\n",
      "49/49 [==============================] - 23s 467ms/step - sparse_categorical_accuracy: 0.9412 - loss: 0.2150 - val_sparse_categorical_accuracy: 0.9089 - val_loss: 0.3741 - lr: 2.0486e-05\n",
      "\n",
      "Epoch 00013: LearningRateScheduler reducing learning rate to 1.8388608000000004e-05.\n",
      "Epoch 13/15\n",
      "49/49 [==============================] - 23s 468ms/step - sparse_categorical_accuracy: 0.9343 - loss: 0.2243 - val_sparse_categorical_accuracy: 0.9098 - val_loss: 0.3726 - lr: 1.8389e-05\n",
      "\n",
      "Epoch 00014: LearningRateScheduler reducing learning rate to 1.6710886400000004e-05.\n",
      "Epoch 14/15\n",
      "49/49 [==============================] - 23s 468ms/step - sparse_categorical_accuracy: 0.9419 - loss: 0.2142 - val_sparse_categorical_accuracy: 0.9087 - val_loss: 0.3725 - lr: 1.6711e-05\n",
      "\n",
      "Epoch 00015: LearningRateScheduler reducing learning rate to 1.5368709120000003e-05.\n",
      "Epoch 15/15\n",
      "49/49 [==============================] - 23s 470ms/step - sparse_categorical_accuracy: 0.9384 - loss: 0.2138 - val_sparse_categorical_accuracy: 0.9095 - val_loss: 0.3720 - lr: 1.5369e-05\n"
     ]
    }
   ],
   "source": [
    "#Here we finally put together everything we have done and start training our models\n",
    "EPOCHS = 15\n",
    "STEPS_PER_EPOCH = NUM_TRAINING_IMAGES // BATCH_SIZE\n",
    "\n",
    "history1 = model1.fit(\n",
    "    ds_train,\n",
    "    validation_data=ds_valid,\n",
    "    epochs=EPOCHS,\n",
    "    steps_per_epoch=STEPS_PER_EPOCH,\n",
    "    callbacks=[lr_callback],\n",
    ")"
   ]
  },
  {
   "cell_type": "code",
   "execution_count": 12,
   "metadata": {
    "execution": {
     "iopub.execute_input": "2020-11-06T15:10:06.260693Z",
     "iopub.status.busy": "2020-11-06T15:10:06.259535Z",
     "iopub.status.idle": "2020-11-06T15:13:22.178764Z",
     "shell.execute_reply": "2020-11-06T15:13:22.178059Z"
    },
    "papermill": {
     "duration": 196.315139,
     "end_time": "2020-11-06T15:13:22.178887",
     "exception": false,
     "start_time": "2020-11-06T15:10:05.863748",
     "status": "completed"
    },
    "tags": []
   },
   "outputs": [
    {
     "name": "stdout",
     "output_type": "stream",
     "text": [
      "\n",
      "Epoch 00001: LearningRateScheduler reducing learning rate to 0.0010000000474974513.\n",
      "Epoch 1/15\n",
      "49/49 [==============================] - 29s 583ms/step - sparse_categorical_accuracy: 0.6088 - loss: 1.7113 - val_sparse_categorical_accuracy: 0.6441 - val_loss: 1.4583 - lr: 0.0010\n",
      "\n",
      "Epoch 00002: LearningRateScheduler reducing learning rate to 0.0008100000379979611.\n",
      "Epoch 2/15\n",
      "49/49 [==============================] - 7s 153ms/step - sparse_categorical_accuracy: 0.8746 - loss: 0.4724 - val_sparse_categorical_accuracy: 0.7419 - val_loss: 1.0103 - lr: 8.1000e-04\n",
      "\n",
      "Epoch 00003: LearningRateScheduler reducing learning rate to 0.0005060000335611404.\n",
      "Epoch 3/15\n",
      "49/49 [==============================] - 8s 157ms/step - sparse_categorical_accuracy: 0.9417 - loss: 0.2169 - val_sparse_categorical_accuracy: 0.8362 - val_loss: 0.6187 - lr: 5.0600e-04\n",
      "\n",
      "Epoch 00004: LearningRateScheduler reducing learning rate to 0.00023240000449121004.\n",
      "Epoch 4/15\n",
      "49/49 [==============================] - 8s 161ms/step - sparse_categorical_accuracy: 0.9707 - loss: 0.1087 - val_sparse_categorical_accuracy: 0.8745 - val_loss: 0.4767 - lr: 2.3240e-04\n",
      "\n",
      "Epoch 00005: LearningRateScheduler reducing learning rate to 8.648000176530332e-05.\n",
      "Epoch 5/15\n",
      "49/49 [==============================] - 8s 158ms/step - sparse_categorical_accuracy: 0.9861 - loss: 0.0616 - val_sparse_categorical_accuracy: 0.9052 - val_loss: 0.3617 - lr: 8.6480e-05\n",
      "\n",
      "Epoch 00006: LearningRateScheduler reducing learning rate to 5e-05.\n",
      "Epoch 6/15\n",
      "49/49 [==============================] - 8s 158ms/step - sparse_categorical_accuracy: 0.9878 - loss: 0.0556 - val_sparse_categorical_accuracy: 0.9143 - val_loss: 0.3408 - lr: 5.0000e-05\n",
      "\n",
      "Epoch 00007: LearningRateScheduler reducing learning rate to 4.2000000000000004e-05.\n",
      "Epoch 7/15\n",
      "49/49 [==============================] - 8s 154ms/step - sparse_categorical_accuracy: 0.9895 - loss: 0.0479 - val_sparse_categorical_accuracy: 0.9143 - val_loss: 0.3376 - lr: 4.2000e-05\n",
      "\n",
      "Epoch 00008: LearningRateScheduler reducing learning rate to 3.5600000000000005e-05.\n",
      "Epoch 8/15\n",
      "49/49 [==============================] - 8s 161ms/step - sparse_categorical_accuracy: 0.9917 - loss: 0.0441 - val_sparse_categorical_accuracy: 0.9154 - val_loss: 0.3315 - lr: 3.5600e-05\n",
      "\n",
      "Epoch 00009: LearningRateScheduler reducing learning rate to 3.0480000000000006e-05.\n",
      "Epoch 9/15\n",
      "49/49 [==============================] - 7s 153ms/step - sparse_categorical_accuracy: 0.9927 - loss: 0.0375 - val_sparse_categorical_accuracy: 0.9162 - val_loss: 0.3327 - lr: 3.0480e-05\n",
      "\n",
      "Epoch 00010: LearningRateScheduler reducing learning rate to 2.6384000000000004e-05.\n",
      "Epoch 10/15\n",
      "49/49 [==============================] - 8s 157ms/step - sparse_categorical_accuracy: 0.9946 - loss: 0.0349 - val_sparse_categorical_accuracy: 0.9176 - val_loss: 0.3319 - lr: 2.6384e-05\n",
      "\n",
      "Epoch 00011: LearningRateScheduler reducing learning rate to 2.3107200000000005e-05.\n",
      "Epoch 11/15\n",
      "49/49 [==============================] - 8s 158ms/step - sparse_categorical_accuracy: 0.9938 - loss: 0.0346 - val_sparse_categorical_accuracy: 0.9181 - val_loss: 0.3338 - lr: 2.3107e-05\n",
      "\n",
      "Epoch 00012: LearningRateScheduler reducing learning rate to 2.0485760000000004e-05.\n",
      "Epoch 12/15\n",
      "49/49 [==============================] - 8s 159ms/step - sparse_categorical_accuracy: 0.9938 - loss: 0.0355 - val_sparse_categorical_accuracy: 0.9192 - val_loss: 0.3368 - lr: 2.0486e-05\n",
      "\n",
      "Epoch 00013: LearningRateScheduler reducing learning rate to 1.8388608000000004e-05.\n",
      "Epoch 13/15\n",
      "49/49 [==============================] - 8s 153ms/step - sparse_categorical_accuracy: 0.9940 - loss: 0.0324 - val_sparse_categorical_accuracy: 0.9189 - val_loss: 0.3352 - lr: 1.8389e-05\n",
      "\n",
      "Epoch 00014: LearningRateScheduler reducing learning rate to 1.6710886400000004e-05.\n",
      "Epoch 14/15\n",
      "49/49 [==============================] - 8s 156ms/step - sparse_categorical_accuracy: 0.9946 - loss: 0.0305 - val_sparse_categorical_accuracy: 0.9173 - val_loss: 0.3380 - lr: 1.6711e-05\n",
      "\n",
      "Epoch 00015: LearningRateScheduler reducing learning rate to 1.5368709120000003e-05.\n",
      "Epoch 15/15\n",
      "49/49 [==============================] - 8s 157ms/step - sparse_categorical_accuracy: 0.9955 - loss: 0.0268 - val_sparse_categorical_accuracy: 0.9189 - val_loss: 0.3388 - lr: 1.5369e-05\n"
     ]
    }
   ],
   "source": [
    "history2 = model2.fit(\n",
    "    ds_train,\n",
    "    validation_data=ds_valid,\n",
    "    epochs=EPOCHS,\n",
    "    steps_per_epoch=STEPS_PER_EPOCH,\n",
    "    callbacks=[lr_callback],\n",
    ")"
   ]
  },
  {
   "cell_type": "code",
   "execution_count": 13,
   "metadata": {
    "execution": {
     "iopub.execute_input": "2020-11-06T15:13:23.578491Z",
     "iopub.status.busy": "2020-11-06T15:13:23.575472Z",
     "iopub.status.idle": "2020-11-06T15:21:10.321223Z",
     "shell.execute_reply": "2020-11-06T15:21:10.320412Z"
    },
    "papermill": {
     "duration": 467.454915,
     "end_time": "2020-11-06T15:21:10.321362",
     "exception": false,
     "start_time": "2020-11-06T15:13:22.866447",
     "status": "completed"
    },
    "tags": []
   },
   "outputs": [
    {
     "name": "stdout",
     "output_type": "stream",
     "text": [
      "\n",
      "Epoch 00001: LearningRateScheduler reducing learning rate to 0.0010000000474974513.\n",
      "Epoch 1/15\n",
      "49/49 [==============================] - 62s 1s/step - sparse_categorical_accuracy: 0.6432 - loss: 1.5096 - val_sparse_categorical_accuracy: 0.0614 - val_loss: 692.5338 - lr: 0.0010\n",
      "\n",
      "Epoch 00002: LearningRateScheduler reducing learning rate to 0.0008100000379979611.\n",
      "Epoch 2/15\n",
      "49/49 [==============================] - 15s 302ms/step - sparse_categorical_accuracy: 0.8587 - loss: 0.5211 - val_sparse_categorical_accuracy: 0.2530 - val_loss: 30.0738 - lr: 8.1000e-04\n",
      "\n",
      "Epoch 00003: LearningRateScheduler reducing learning rate to 0.0005060000335611404.\n",
      "Epoch 3/15\n",
      "49/49 [==============================] - 15s 296ms/step - sparse_categorical_accuracy: 0.9260 - loss: 0.2726 - val_sparse_categorical_accuracy: 0.8252 - val_loss: 0.7277 - lr: 5.0600e-04\n",
      "\n",
      "Epoch 00004: LearningRateScheduler reducing learning rate to 0.00023240000449121004.\n",
      "Epoch 4/15\n",
      "49/49 [==============================] - 15s 298ms/step - sparse_categorical_accuracy: 0.9688 - loss: 0.1237 - val_sparse_categorical_accuracy: 0.8979 - val_loss: 0.4284 - lr: 2.3240e-04\n",
      "\n",
      "Epoch 00005: LearningRateScheduler reducing learning rate to 8.648000176530332e-05.\n",
      "Epoch 5/15\n",
      "49/49 [==============================] - 15s 297ms/step - sparse_categorical_accuracy: 0.9844 - loss: 0.0635 - val_sparse_categorical_accuracy: 0.9176 - val_loss: 0.3448 - lr: 8.6480e-05\n",
      "\n",
      "Epoch 00006: LearningRateScheduler reducing learning rate to 5e-05.\n",
      "Epoch 6/15\n",
      "49/49 [==============================] - 14s 294ms/step - sparse_categorical_accuracy: 0.9892 - loss: 0.0475 - val_sparse_categorical_accuracy: 0.9230 - val_loss: 0.3281 - lr: 5.0000e-05\n",
      "\n",
      "Epoch 00007: LearningRateScheduler reducing learning rate to 4.2000000000000004e-05.\n",
      "Epoch 7/15\n",
      "49/49 [==============================] - 14s 294ms/step - sparse_categorical_accuracy: 0.9919 - loss: 0.0378 - val_sparse_categorical_accuracy: 0.9259 - val_loss: 0.3268 - lr: 4.2000e-05\n",
      "\n",
      "Epoch 00008: LearningRateScheduler reducing learning rate to 3.5600000000000005e-05.\n",
      "Epoch 8/15\n",
      "49/49 [==============================] - 15s 300ms/step - sparse_categorical_accuracy: 0.9915 - loss: 0.0370 - val_sparse_categorical_accuracy: 0.9224 - val_loss: 0.3311 - lr: 3.5600e-05\n",
      "\n",
      "Epoch 00009: LearningRateScheduler reducing learning rate to 3.0480000000000006e-05.\n",
      "Epoch 9/15\n",
      "49/49 [==============================] - 14s 296ms/step - sparse_categorical_accuracy: 0.9931 - loss: 0.0333 - val_sparse_categorical_accuracy: 0.9235 - val_loss: 0.3363 - lr: 3.0480e-05\n",
      "\n",
      "Epoch 00010: LearningRateScheduler reducing learning rate to 2.6384000000000004e-05.\n",
      "Epoch 10/15\n",
      "49/49 [==============================] - 15s 298ms/step - sparse_categorical_accuracy: 0.9938 - loss: 0.0292 - val_sparse_categorical_accuracy: 0.9235 - val_loss: 0.3337 - lr: 2.6384e-05\n",
      "\n",
      "Epoch 00011: LearningRateScheduler reducing learning rate to 2.3107200000000005e-05.\n",
      "Epoch 11/15\n",
      "49/49 [==============================] - 15s 297ms/step - sparse_categorical_accuracy: 0.9947 - loss: 0.0271 - val_sparse_categorical_accuracy: 0.9238 - val_loss: 0.3410 - lr: 2.3107e-05\n",
      "\n",
      "Epoch 00012: LearningRateScheduler reducing learning rate to 2.0485760000000004e-05.\n",
      "Epoch 12/15\n",
      "49/49 [==============================] - 15s 297ms/step - sparse_categorical_accuracy: 0.9942 - loss: 0.0270 - val_sparse_categorical_accuracy: 0.9256 - val_loss: 0.3395 - lr: 2.0486e-05\n",
      "\n",
      "Epoch 00013: LearningRateScheduler reducing learning rate to 1.8388608000000004e-05.\n",
      "Epoch 13/15\n",
      "49/49 [==============================] - 15s 296ms/step - sparse_categorical_accuracy: 0.9945 - loss: 0.0263 - val_sparse_categorical_accuracy: 0.9251 - val_loss: 0.3408 - lr: 1.8389e-05\n",
      "\n",
      "Epoch 00014: LearningRateScheduler reducing learning rate to 1.6710886400000004e-05.\n",
      "Epoch 14/15\n",
      "49/49 [==============================] - 14s 293ms/step - sparse_categorical_accuracy: 0.9947 - loss: 0.0243 - val_sparse_categorical_accuracy: 0.9238 - val_loss: 0.3436 - lr: 1.6711e-05\n",
      "\n",
      "Epoch 00015: LearningRateScheduler reducing learning rate to 1.5368709120000003e-05.\n",
      "Epoch 15/15\n",
      "49/49 [==============================] - 15s 297ms/step - sparse_categorical_accuracy: 0.9960 - loss: 0.0221 - val_sparse_categorical_accuracy: 0.9243 - val_loss: 0.3440 - lr: 1.5369e-05\n"
     ]
    }
   ],
   "source": [
    "history3 = model3.fit(\n",
    "    ds_train,\n",
    "    validation_data=ds_valid,\n",
    "    epochs=EPOCHS,\n",
    "    steps_per_epoch=STEPS_PER_EPOCH,\n",
    "    callbacks=[lr_callback],\n",
    ")"
   ]
  },
  {
   "cell_type": "code",
   "execution_count": 14,
   "metadata": {
    "execution": {
     "iopub.execute_input": "2020-11-06T15:21:12.401222Z",
     "iopub.status.busy": "2020-11-06T15:21:12.400125Z",
     "iopub.status.idle": "2020-11-06T15:29:21.570816Z",
     "shell.execute_reply": "2020-11-06T15:29:21.570041Z"
    },
    "papermill": {
     "duration": 490.217366,
     "end_time": "2020-11-06T15:29:21.570944",
     "exception": false,
     "start_time": "2020-11-06T15:21:11.353578",
     "status": "completed"
    },
    "tags": []
   },
   "outputs": [
    {
     "name": "stdout",
     "output_type": "stream",
     "text": [
      "\n",
      "Epoch 00001: LearningRateScheduler reducing learning rate to 0.0010000000474974513.\n",
      "Epoch 1/15\n",
      "49/49 [==============================] - 57s 1s/step - sparse_categorical_accuracy: 0.6522 - loss: 1.4688 - val_sparse_categorical_accuracy: 0.1285 - val_loss: 4.2655 - lr: 0.0010\n",
      "\n",
      "Epoch 00002: LearningRateScheduler reducing learning rate to 0.0008100000379979611.\n",
      "Epoch 2/15\n",
      "49/49 [==============================] - 15s 302ms/step - sparse_categorical_accuracy: 0.8630 - loss: 0.5249 - val_sparse_categorical_accuracy: 0.4278 - val_loss: 2.3397 - lr: 8.1000e-04\n",
      "\n",
      "Epoch 00003: LearningRateScheduler reducing learning rate to 0.0005060000335611404.\n",
      "Epoch 3/15\n",
      "49/49 [==============================] - 15s 300ms/step - sparse_categorical_accuracy: 0.9338 - loss: 0.2499 - val_sparse_categorical_accuracy: 0.8448 - val_loss: 0.6149 - lr: 5.0600e-04\n",
      "\n",
      "Epoch 00004: LearningRateScheduler reducing learning rate to 0.00023240000449121004.\n",
      "Epoch 4/15\n",
      "49/49 [==============================] - 15s 298ms/step - sparse_categorical_accuracy: 0.9680 - loss: 0.1244 - val_sparse_categorical_accuracy: 0.8855 - val_loss: 0.4594 - lr: 2.3240e-04\n",
      "\n",
      "Epoch 00005: LearningRateScheduler reducing learning rate to 8.648000176530332e-05.\n",
      "Epoch 5/15\n",
      "49/49 [==============================] - 15s 301ms/step - sparse_categorical_accuracy: 0.9862 - loss: 0.0683 - val_sparse_categorical_accuracy: 0.9151 - val_loss: 0.3534 - lr: 8.6480e-05\n",
      "\n",
      "Epoch 00006: LearningRateScheduler reducing learning rate to 5e-05.\n",
      "Epoch 6/15\n",
      "49/49 [==============================] - 15s 300ms/step - sparse_categorical_accuracy: 0.9918 - loss: 0.0490 - val_sparse_categorical_accuracy: 0.9243 - val_loss: 0.3202 - lr: 5.0000e-05\n",
      "\n",
      "Epoch 00007: LearningRateScheduler reducing learning rate to 4.2000000000000004e-05.\n",
      "Epoch 7/15\n",
      "49/49 [==============================] - 15s 299ms/step - sparse_categorical_accuracy: 0.9933 - loss: 0.0428 - val_sparse_categorical_accuracy: 0.9273 - val_loss: 0.3047 - lr: 4.2000e-05\n",
      "\n",
      "Epoch 00008: LearningRateScheduler reducing learning rate to 3.5600000000000005e-05.\n",
      "Epoch 8/15\n",
      "49/49 [==============================] - 15s 298ms/step - sparse_categorical_accuracy: 0.9943 - loss: 0.0389 - val_sparse_categorical_accuracy: 0.9300 - val_loss: 0.2966 - lr: 3.5600e-05\n",
      "\n",
      "Epoch 00009: LearningRateScheduler reducing learning rate to 3.0480000000000006e-05.\n",
      "Epoch 9/15\n",
      "49/49 [==============================] - 15s 304ms/step - sparse_categorical_accuracy: 0.9958 - loss: 0.0345 - val_sparse_categorical_accuracy: 0.9316 - val_loss: 0.2953 - lr: 3.0480e-05\n",
      "\n",
      "Epoch 00010: LearningRateScheduler reducing learning rate to 2.6384000000000004e-05.\n",
      "Epoch 10/15\n",
      "49/49 [==============================] - 15s 301ms/step - sparse_categorical_accuracy: 0.9951 - loss: 0.0329 - val_sparse_categorical_accuracy: 0.9313 - val_loss: 0.2933 - lr: 2.6384e-05\n",
      "\n",
      "Epoch 00011: LearningRateScheduler reducing learning rate to 2.3107200000000005e-05.\n",
      "Epoch 11/15\n",
      "49/49 [==============================] - 15s 303ms/step - sparse_categorical_accuracy: 0.9968 - loss: 0.0303 - val_sparse_categorical_accuracy: 0.9310 - val_loss: 0.2927 - lr: 2.3107e-05\n",
      "\n",
      "Epoch 00012: LearningRateScheduler reducing learning rate to 2.0485760000000004e-05.\n",
      "Epoch 12/15\n",
      "49/49 [==============================] - 15s 301ms/step - sparse_categorical_accuracy: 0.9971 - loss: 0.0296 - val_sparse_categorical_accuracy: 0.9310 - val_loss: 0.2927 - lr: 2.0486e-05\n",
      "\n",
      "Epoch 00013: LearningRateScheduler reducing learning rate to 1.8388608000000004e-05.\n",
      "Epoch 13/15\n",
      "49/49 [==============================] - 15s 302ms/step - sparse_categorical_accuracy: 0.9967 - loss: 0.0291 - val_sparse_categorical_accuracy: 0.9327 - val_loss: 0.2922 - lr: 1.8389e-05\n",
      "\n",
      "Epoch 00014: LearningRateScheduler reducing learning rate to 1.6710886400000004e-05.\n",
      "Epoch 14/15\n",
      "49/49 [==============================] - 15s 304ms/step - sparse_categorical_accuracy: 0.9959 - loss: 0.0286 - val_sparse_categorical_accuracy: 0.9327 - val_loss: 0.2927 - lr: 1.6711e-05\n",
      "\n",
      "Epoch 00015: LearningRateScheduler reducing learning rate to 1.5368709120000003e-05.\n",
      "Epoch 15/15\n",
      "49/49 [==============================] - 15s 301ms/step - sparse_categorical_accuracy: 0.9974 - loss: 0.0261 - val_sparse_categorical_accuracy: 0.9332 - val_loss: 0.2917 - lr: 1.5369e-05\n"
     ]
    }
   ],
   "source": [
    "history4 = model4.fit(\n",
    "    ds_train,\n",
    "    validation_data=ds_valid,\n",
    "    epochs=EPOCHS,\n",
    "    steps_per_epoch=STEPS_PER_EPOCH,\n",
    "    callbacks=[lr_callback],\n",
    ")"
   ]
  },
  {
   "cell_type": "code",
   "execution_count": 15,
   "metadata": {
    "execution": {
     "iopub.execute_input": "2020-11-06T15:29:24.208894Z",
     "iopub.status.busy": "2020-11-06T15:29:24.208108Z",
     "iopub.status.idle": "2020-11-06T15:29:24.704747Z",
     "shell.execute_reply": "2020-11-06T15:29:24.705382Z"
    },
    "papermill": {
     "duration": 1.802643,
     "end_time": "2020-11-06T15:29:24.705538",
     "exception": false,
     "start_time": "2020-11-06T15:29:22.902895",
     "status": "completed"
    },
    "tags": []
   },
   "outputs": [
    {
     "data": {
      "image/png": "[encoded data removed]",
      "text/plain": [
       "<Figure size 720x720 with 2 Axes>"
      ]
     },
     "metadata": {},
     "output_type": "display_data"
    }
   ],
   "source": [
    "import matplotlib.pyplot as plt\n",
    "#This function is used to display the traing curves and loss.\n",
    "def display_training_curves(training, validation, title, subplot):\n",
    "    if subplot%10==1:\n",
    "        plt.subplots(figsize=(10,10), facecolor='#F0F0F0')\n",
    "        plt.tight_layout()\n",
    "    ax = plt.subplot(subplot)\n",
    "    ax.set_facecolor('#F8F8F8')\n",
    "    ax.plot(training)\n",
    "    ax.plot(validation)\n",
    "    ax.set_title('model '+ title)\n",
    "    ax.set_ylabel(title)\n",
    "    ax.set_xlabel('epoch')\n",
    "    ax.legend(['train', 'valid.'])\n",
    "\n",
    "\n",
    "\n",
    "#Here we display the loss and accuracy curves\n",
    "#By changing the names we can view this data for any model\n",
    "display_training_curves(\n",
    "    history1.history['loss'],\n",
    "    history1.history['val_loss'],\n",
    "    'loss',\n",
    "    211,\n",
    ")\n",
    "display_training_curves(\n",
    "    history1.history['sparse_categorical_accuracy'],\n",
    "    history1.history['val_sparse_categorical_accuracy'],\n",
    "    'accuracy',\n",
    "    212,\n",
    ")"
   ]
  },
  {
   "cell_type": "code",
   "execution_count": 16,
   "metadata": {
    "execution": {
     "iopub.execute_input": "2020-11-06T15:29:27.376267Z",
     "iopub.status.busy": "2020-11-06T15:29:27.375181Z",
     "iopub.status.idle": "2020-11-06T15:32:24.388747Z",
     "shell.execute_reply": "2020-11-06T15:32:24.389429Z"
    },
    "papermill": {
     "duration": 178.384261,
     "end_time": "2020-11-06T15:32:24.389604",
     "exception": false,
     "start_time": "2020-11-06T15:29:26.005343",
     "status": "completed"
    },
    "tags": []
   },
   "outputs": [
    {
     "name": "stdout",
     "output_type": "stream",
     "text": [
      "Computing predictions...\n",
      "[ 67  28  83 ... 103 102  62]\n"
     ]
    }
   ],
   "source": [
    "#Here we load the test dataset but this in order as it is important to have the same order as the sample submission.\n",
    "test_ds = get_test_dataset(ordered=True)\n",
    "\n",
    "print('Computing predictions...')\n",
    "test_images_ds = test_ds.map(lambda image, idnum: image)\n",
    "probabilities1 = model1.predict(test_images_ds)\n",
    "probabilities2 = model2.predict(test_images_ds)\n",
    "probabilities3 = model3.predict(test_images_ds)\n",
    "probabilities4 = model4.predict(test_images_ds)\n",
    "probabilities = probabilities1+probabilities2+probabilities3+probabilities4\n",
    "predictions = np.argmax(probabilities, axis=-1)\n",
    "print(predictions)"
   ]
  },
  {
   "cell_type": "code",
   "execution_count": 17,
   "metadata": {
    "execution": {
     "iopub.execute_input": "2020-11-06T15:32:26.995237Z",
     "iopub.status.busy": "2020-11-06T15:32:26.994458Z",
     "iopub.status.idle": "2020-11-06T15:32:29.024101Z",
     "shell.execute_reply": "2020-11-06T15:32:29.023491Z"
    },
    "papermill": {
     "duration": 3.334891,
     "end_time": "2020-11-06T15:32:29.024253",
     "exception": false,
     "start_time": "2020-11-06T15:32:25.689362",
     "status": "completed"
    },
    "tags": []
   },
   "outputs": [
    {
     "name": "stdout",
     "output_type": "stream",
     "text": [
      "Generating submission.csv file...\n",
      "id,label\r\n",
      "252d840db,67\r\n",
      "1c4736dea,28\r\n",
      "c37a6f3e9,83\r\n",
      "00e4f514e,103\r\n",
      "59d1b6146,46\r\n",
      "8d808a07b,53\r\n",
      "aeb67eefb,52\r\n",
      "53cfc6586,48\r\n",
      "aaa580243,82\r\n"
     ]
    }
   ],
   "source": [
    "print('Generating submission.csv file...')\n",
    "\n",
    "# Get image ids from test set and convert to unicode\n",
    "test_ids_ds = test_ds.map(lambda image, idnum: idnum).unbatch()\n",
    "test_ids = next(iter(test_ids_ds.batch(NUM_TEST_IMAGES))).numpy().astype('U')\n",
    "\n",
    "# Write the submission file\n",
    "np.savetxt(\n",
    "    'submission.csv',\n",
    "    np.rec.fromarrays([test_ids, predictions]),\n",
    "    fmt=['%s', '%d'],\n",
    "    delimiter=',',\n",
    "    header='id,label',\n",
    "    comments='',\n",
    ")\n",
    "\n",
    "# Look at the first few predictions\n",
    "!head submission.csv"
   ]
  },
  {
   "cell_type": "code",
   "execution_count": null,
   "metadata": {
    "papermill": {
     "duration": 1.342677,
     "end_time": "2020-11-06T15:32:31.666385",
     "exception": false,
     "start_time": "2020-11-06T15:32:30.323708",
     "status": "completed"
    },
    "tags": []
   },
   "outputs": [],
   "source": []
  }
 ],
 "metadata": {
  "kernelspec": {
   "display_name": "Python 3",
   "language": "python",
   "name": "python3"
  },
  "language_info": {
   "codemirror_mode": {
    "name": "ipython",
    "version": 3
   },
   "file_extension": ".py",
   "mimetype": "text/x-python",
   "name": "python",
   "nbconvert_exporter": "python",
   "pygments_lexer": "ipython3",
   "version": "3.7.7"
  },
  "papermill": {
   "duration": 2286.866684,
   "end_time": "2020-11-06T15:32:34.080279",
   "environment_variables": {},
   "exception": null,
   "input_path": "__notebook__.ipynb",
   "output_path": "__notebook__.ipynb",
   "parameters": {},
   "start_time": "2020-11-06T14:54:27.213595",
   "version": "2.1.0"
  }
 },
 "nbformat": 4,
 "nbformat_minor": 4
}
