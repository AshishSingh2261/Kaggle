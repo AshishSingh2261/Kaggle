{
 "cells": [
  {
   "cell_type": "code",
   "execution_count": 1,
   "metadata": {},
   "outputs": [],
   "source": [
    "#Importing stuff\n",
    "import numpy as np\n",
    "import matplotlib.pyplot as plt\n",
    "import seaborn as sns\n",
    "import pandas as pd\n",
    "from sklearn.preprocessing import LabelEncoder,OneHotEncoder\n",
    "from sklearn.model_selection import train_test_split,cross_val_score\n",
    "from sklearn.metrics import accuracy_score\n",
    "from sklearn.linear_model import LogisticRegression"
   ]
  },
  {
   "cell_type": "code",
   "execution_count": 2,
   "metadata": {},
   "outputs": [],
   "source": [
    "#Reading the data\n",
    "train=pd.read_csv('data/train.csv',index_col='PassengerId')\n",
    "test=pd.read_csv('data/test.csv',index_col='PassengerId')\n",
    "y=train['Survived']\n",
    "X=train.append(test)"
   ]
  },
  {
   "cell_type": "code",
   "execution_count": 3,
   "metadata": {},
   "outputs": [
    {
     "data": {
      "text/plain": [
       "<seaborn.axisgrid.FacetGrid at 0x1ea5f146a08>"
      ]
     },
     "execution_count": 3,
     "metadata": {},
     "output_type": "execute_result"
    },
    {
     "data": {
      "image/png": "[encoded data removed]",
      "text/plain": [
       "<Figure size 360x360 with 1 Axes>"
      ]
     },
     "metadata": {
      "needs_background": "light"
     },
     "output_type": "display_data"
    }
   ],
   "source": [
    "#Extracting Titles from Nameand mapping them to new values\n",
    "X['Title']=X['Name'].apply(lambda x: x.split(',')[1].split('.')[0].strip())\n",
    "X['Title'].replace(['Miss', 'Ms', 'Mlle', 'Lady', 'Mme', 'the Countess', 'Dona'], 'Miss/Ms', inplace=True)\n",
    "X['Title'].replace(['Major', 'Col', 'Capt', 'Don', 'Sir', 'Jonkheer'], 'Mr', inplace=True)\n",
    "sns.catplot(x='Title',y='Survived',data=X,kind='bar')"
   ]
  },
  {
   "cell_type": "code",
   "execution_count": 4,
   "metadata": {},
   "outputs": [
    {
     "data": {
      "text/plain": [
       "<seaborn.axisgrid.FacetGrid at 0x1ea5fb07588>"
      ]
     },
     "execution_count": 4,
     "metadata": {},
     "output_type": "execute_result"
    },
    {
     "data": {
      "image/png": "[encoded data removed]",
      "text/plain": [
       "<Figure size 360x360 with 1 Axes>"
      ]
     },
     "metadata": {
      "needs_background": "light"
     },
     "output_type": "display_data"
    }
   ],
   "source": [
    "#Embarked\n",
    "X['Embarked']=X['Embarked'].fillna('S')\n",
    "\n",
    "#Fare\n",
    "def rem_fare(r):\n",
    "    if r.Fare==0:\n",
    "        r.Fare=np.NaN\n",
    "    return r    \n",
    "X=X.apply(rem_fare,axis=1)        \n",
    "X['Ticket_Freq'] = X.groupby('Ticket')['Ticket'].transform('count')\n",
    "def fare(r):\n",
    "    return r.Fare//r.Ticket_Freq\n",
    "X['Fare_bin']=X.apply(fare,axis=1)\n",
    "X['Fare_bin']=X['Fare_bin'].fillna(X['Fare_bin'].median())\n",
    "X['Fare_bin']=pd.cut(X['Fare_bin'],13)\n",
    "sns.catplot(x='Fare_bin',y='Survived',data=X,kind='bar')"
   ]
  },
  {
   "cell_type": "code",
   "execution_count": 5,
   "metadata": {},
   "outputs": [
    {
     "data": {
      "text/plain": [
       "<seaborn.axisgrid.FacetGrid at 0x1ea5f889ec8>"
      ]
     },
     "execution_count": 5,
     "metadata": {},
     "output_type": "execute_result"
    },
    {
     "data": {
      "image/png": "[encoded data removed]",
      "text/plain": [
       "<Figure size 360x360 with 1 Axes>"
      ]
     },
     "metadata": {
      "needs_background": "light"
     },
     "output_type": "display_data"
    }
   ],
   "source": [
    "#Family Size\n",
    "X['Fam_Size'] = X['SibSp'] + X['Parch'] + 1\n",
    "X['Fam_Size']=pd.cut(X['Fam_Size'],[0,1,4,7,11])\n",
    "sns.catplot(x='Fam_Size',y='Survived',data=X,kind='bar')"
   ]
  },
  {
   "cell_type": "code",
   "execution_count": 6,
   "metadata": {},
   "outputs": [],
   "source": [
    "#Encoding \n",
    "X['Fam_Size']=LabelEncoder().fit_transform(X['Fam_Size'])\n",
    "X['Fare_bin']=LabelEncoder().fit_transform(X['Fare_bin'])\n",
    "\n",
    "encoded_features = []\n",
    "cat_features = ['Pclass','Embarked', 'Title', 'Fam_Size','Fare_bin']\n",
    "for feature in cat_features:\n",
    "        encoded_feat = OneHotEncoder().fit_transform(X[feature].values.reshape(-1, 1)).toarray()\n",
    "        n = X[feature].nunique()\n",
    "        cols = ['{}_{}'.format(feature, n) for n in range(1, n + 1)]\n",
    "        encoded_df = pd.DataFrame(encoded_feat, columns=cols)\n",
    "        encoded_df.index = X.index\n",
    "        encoded_features.append(encoded_df)\n",
    "    \n",
    "\n",
    "X=pd.concat([X,*encoded_features[:]], axis=1)"
   ]
  },
  {
   "cell_type": "code",
   "execution_count": 7,
   "metadata": {},
   "outputs": [
    {
     "data": {
      "text/plain": [
       "Index(['Pclass_1', 'Pclass_2', 'Pclass_3', 'Embarked_1', 'Embarked_2',\n",
       "       'Embarked_3', 'Title_1', 'Title_2', 'Title_3', 'Title_4', 'Title_5',\n",
       "       'Title_6', 'Fam_Size_1', 'Fam_Size_2', 'Fam_Size_3', 'Fam_Size_4',\n",
       "       'Fare_bin_1', 'Fare_bin_2', 'Fare_bin_3', 'Fare_bin_4', 'Fare_bin_5',\n",
       "       'Fare_bin_6', 'Fare_bin_7', 'Fare_bin_8', 'Fare_bin_9'],\n",
       "      dtype='object')"
      ]
     },
     "execution_count": 7,
     "metadata": {},
     "output_type": "execute_result"
    }
   ],
   "source": [
    "#Dropping useless values\n",
    "X=X.drop(['Survived', 'Pclass', 'Name', 'Sex', 'Age', 'SibSp', 'Parch', 'Ticket',\n",
    "       'Fare', 'Cabin', 'Embarked', 'Title', 'Ticket_Freq', 'Fare_bin',\n",
    "       'Fam_Size'],axis=1)\n",
    "X.columns"
   ]
  },
  {
   "cell_type": "code",
   "execution_count": 8,
   "metadata": {},
   "outputs": [],
   "source": [
    "train=X[:891]\n",
    "test=X[891:]\n",
    "X_train, X_test, y_train, y_test = train_test_split(train, y, test_size=.2, random_state=42)"
   ]
  },
  {
   "cell_type": "code",
   "execution_count": 9,
   "metadata": {},
   "outputs": [],
   "source": [
    "#Using a Simple Logistic Regression model as problem isnt quite complex enough.\n",
    "model=LogisticRegression()\n",
    "model.fit(X_train,y_train)\n",
    "y_pred=model.predict(X_test)"
   ]
  },
  {
   "cell_type": "code",
   "execution_count": 10,
   "metadata": {},
   "outputs": [
    {
     "data": {
      "text/plain": [
       "0.8212290502793296"
      ]
     },
     "execution_count": 10,
     "metadata": {},
     "output_type": "execute_result"
    }
   ],
   "source": [
    "accuracy_score(y_pred,y_test) #Testing the model on unseen data"
   ]
  },
  {
   "cell_type": "code",
   "execution_count": 11,
   "metadata": {},
   "outputs": [
    {
     "data": {
      "text/plain": [
       "array([0.81879195, 0.79865772, 0.85234899, 0.81081081, 0.81081081,\n",
       "       0.85810811])"
      ]
     },
     "execution_count": 11,
     "metadata": {},
     "output_type": "execute_result"
    }
   ],
   "source": [
    "cross_val_score(model,train,y,cv=6) #Cross Validation Scores"
   ]
  },
  {
   "cell_type": "code",
   "execution_count": 12,
   "metadata": {},
   "outputs": [],
   "source": [
    "#Training the model on the entire data to make final predictions\n",
    "model.fit(train,y)\n",
    "result=model.predict(test)"
   ]
  },
  {
   "cell_type": "code",
   "execution_count": 13,
   "metadata": {},
   "outputs": [],
   "source": [
    "res=pd.read_csv('data/gender_submission.csv',index_col=None)\n",
    "res['Survived']=result\n",
    "res.to_csv('Submission.csv',index=False)"
   ]
  },
  {
   "cell_type": "code",
   "execution_count": null,
   "metadata": {},
   "outputs": [],
   "source": []
  }
 ],
 "metadata": {
  "kernelspec": {
   "display_name": "Python 3",
   "language": "python",
   "name": "python3"
  },
  "language_info": {
   "codemirror_mode": {
    "name": "ipython",
    "version": 3
   },
   "file_extension": ".py",
   "mimetype": "text/x-python",
   "name": "python",
   "nbconvert_exporter": "python",
   "pygments_lexer": "ipython3",
   "version": "3.7.7"
  }
 },
 "nbformat": 4,
 "nbformat_minor": 4
}
