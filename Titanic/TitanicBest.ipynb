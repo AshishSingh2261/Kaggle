{
 "cells": [
  {
   "cell_type": "code",
   "execution_count": 28,
   "metadata": {},
   "outputs": [],
   "source": [
    "import numpy as np\n",
    "import matplotlib.pyplot as plt\n",
    "import seaborn as sns\n",
    "import pandas as pd\n",
    "from sklearn.ensemble import RandomForestClassifier\n",
    "from sklearn.preprocessing import LabelEncoder,OneHotEncoder\n",
    "from sklearn.model_selection import cross_val_score\n",
    "from sklearn.model_selection import GridSearchCV"
   ]
  },
  {
   "cell_type": "code",
   "execution_count": 29,
   "metadata": {},
   "outputs": [],
   "source": [
    "#Reading the data\n",
    "train=pd.read_csv('train.csv',index_col='PassengerId')\n",
    "test=pd.read_csv('test.csv',index_col='PassengerId')\n",
    "y=train['Survived']\n",
    "X=train.append(test)"
   ]
  },
  {
   "cell_type": "code",
   "execution_count": 30,
   "metadata": {},
   "outputs": [],
   "source": [
    "#Title\n",
    "X['Title']=X['Name'].apply(lambda x: x.split(',')[1].split('.')[0].strip())\n",
    "X['Title'].replace(['Miss', 'Ms', 'Mlle', 'Lady', 'Mme', 'the Countess', 'Dona'], 'Miss/Ms', inplace=True)\n",
    "X['Title'].replace(['Major', 'Col', 'Capt', 'Don', 'Sir', 'Jonkheer'], 'Mr', inplace=True)"
   ]
  },
  {
   "cell_type": "code",
   "execution_count": 31,
   "metadata": {},
   "outputs": [],
   "source": [
    "#Embarked\n",
    "X['Embarked']=X['Embarked'].fillna('S')\n",
    "#Fare\n",
    "def rem_fare(r):\n",
    "    if r.Fare==0:\n",
    "        r.Fare=np.NaN\n",
    "    return r    \n",
    "X=X.apply(rem_fare,axis=1)        \n",
    "X['Ticket_Freq'] = X.groupby('Ticket')['Ticket'].transform('count')\n",
    "def fare(r):\n",
    "    return r.Fare//r.Ticket_Freq\n",
    "X['Fare']=X.apply(fare,axis=1)\n",
    "X['Fare']=X['Fare'].fillna(X['Fare'].median())\n",
    "#X['Fare']=pd.cut(X['Fare'],4)"
   ]
  },
  {
   "cell_type": "code",
   "execution_count": 32,
   "metadata": {},
   "outputs": [],
   "source": [
    "#Family Size\n",
    "X['Fam_Size'] = X['SibSp'] + X['Parch'] + 1\n",
    "X['Fam_Size']=pd.cut(X['Fam_Size'],[0,1,4,7,11])"
   ]
  },
  {
   "cell_type": "code",
   "execution_count": 33,
   "metadata": {},
   "outputs": [],
   "source": [
    "#Ticket\n",
    "X['Ticket_lett'] = X.Ticket.apply(lambda x: x[:2])\n",
    "X['Ticket_len'] = X.Ticket.apply(lambda x: len(x))"
   ]
  },
  {
   "cell_type": "code",
   "execution_count": 34,
   "metadata": {},
   "outputs": [],
   "source": [
    "X['Fam_Size']=LabelEncoder().fit_transform(X['Fam_Size'])\n",
    "\n",
    "encoded_features = []\n",
    "cat_features = ['Pclass', 'Embarked', 'Title', 'Fam_Size','Ticket_lett','Ticket_len']\n",
    "for feature in cat_features:\n",
    "        encoded_feat = OneHotEncoder().fit_transform(X[feature].values.reshape(-1, 1)).toarray()\n",
    "        n = X[feature].nunique()\n",
    "        cols = ['{}_{}'.format(feature, n) for n in range(1, n + 1)]\n",
    "        encoded_df = pd.DataFrame(encoded_feat, columns=cols)\n",
    "        encoded_df.index = X.index\n",
    "        encoded_features.append(encoded_df)\n",
    "    \n",
    "\n",
    "X=pd.concat([X,*encoded_features[:5]], axis=1)"
   ]
  },
  {
   "cell_type": "code",
   "execution_count": 35,
   "metadata": {},
   "outputs": [],
   "source": [
    "#Dropping useless values\n",
    "X=X.drop(['Sex','Age','Cabin','Ticket','Name','Ticket_Freq','Embarked','Fam_Size','Pclass','Title','SibSp','Parch'],axis=1)\n",
    "X=X.drop(['Ticket_lett','Ticket_len'],axis=1)"
   ]
  },
  {
   "cell_type": "code",
   "execution_count": 36,
   "metadata": {},
   "outputs": [],
   "source": [
    "X_train=X.drop(['Survived'],axis=1)\n",
    "X_train=X_train[:891]\n",
    "X_test=X.drop(['Survived'],axis=1)\n",
    "X_test=X_test[891:]"
   ]
  },
  {
   "cell_type": "code",
   "execution_count": 37,
   "metadata": {},
   "outputs": [
    {
     "name": "stderr",
     "output_type": "stream",
     "text": [
      "[Parallel(n_jobs=-1)]: Using backend ThreadingBackend with 8 concurrent workers.\n",
      "[Parallel(n_jobs=-1)]: Done  34 tasks      | elapsed:    0.0s\n",
      "[Parallel(n_jobs=-1)]: Done 184 tasks      | elapsed:    0.1s\n",
      "[Parallel(n_jobs=-1)]: Done 434 tasks      | elapsed:    0.3s\n",
      "[Parallel(n_jobs=-1)]: Done 784 tasks      | elapsed:    0.6s\n",
      "[Parallel(n_jobs=-1)]: Done 1000 out of 1000 | elapsed:    0.8s finished\n",
      "[Parallel(n_jobs=8)]: Using backend ThreadingBackend with 8 concurrent workers.\n",
      "[Parallel(n_jobs=8)]: Done  34 tasks      | elapsed:    0.0s\n",
      "[Parallel(n_jobs=8)]: Done 184 tasks      | elapsed:    0.0s\n",
      "[Parallel(n_jobs=8)]: Done 434 tasks      | elapsed:    0.0s\n",
      "[Parallel(n_jobs=8)]: Done 784 tasks      | elapsed:    0.0s\n",
      "[Parallel(n_jobs=8)]: Done 1000 out of 1000 | elapsed:    0.0s finished\n"
     ]
    }
   ],
   "source": [
    "# Second Best model 79.1 accuracy\n",
    "rfs= RandomForestClassifier(n_estimators=1000,max_depth=5,\n",
    "                            max_features='auto', oob_score=True, n_jobs=-1, verbose=1,random_state=10)\n",
    "rfs.fit(X_train,y)\n",
    "result=rfs.predict(X_test)"
   ]
  },
  {
   "cell_type": "code",
   "execution_count": 41,
   "metadata": {},
   "outputs": [],
   "source": [
    "#Best model 79.6\n",
    "rfs2=RandomForestClassifier(n_estimators=1000,max_depth=5,random_state=0)\n",
    "rfs2.fit(X_train,y)\n",
    "result=rfs2.predict(X_test)"
   ]
  },
  {
   "cell_type": "code",
   "execution_count": 42,
   "metadata": {},
   "outputs": [
    {
     "data": {
      "text/plain": [
       "array([0.79194631, 0.79865772, 0.89932886, 0.82432432, 0.79054054,\n",
       "       0.84459459])"
      ]
     },
     "execution_count": 42,
     "metadata": {},
     "output_type": "execute_result"
    }
   ],
   "source": [
    "a=cross_val_score(rfs2,X_train,y,cv=6)\n",
    "a"
   ]
  },
  {
   "cell_type": "code",
   "execution_count": 43,
   "metadata": {},
   "outputs": [],
   "source": [
    "res=pd.read_csv('gender_submission.csv',index_col=None)\n",
    "res['Survived']=result\n",
    "res.to_csv('SubHighestEver.csv',index=False)"
   ]
  },
  {
   "cell_type": "code",
   "execution_count": null,
   "metadata": {},
   "outputs": [],
   "source": []
  }
 ],
 "metadata": {
  "kernelspec": {
   "display_name": "Python 3",
   "language": "python",
   "name": "python3"
  },
  "language_info": {
   "codemirror_mode": {
    "name": "ipython",
    "version": 3
   },
   "file_extension": ".py",
   "mimetype": "text/x-python",
   "name": "python",
   "nbconvert_exporter": "python",
   "pygments_lexer": "ipython3",
   "version": "3.7.7"
  }
 },
 "nbformat": 4,
 "nbformat_minor": 4
}
